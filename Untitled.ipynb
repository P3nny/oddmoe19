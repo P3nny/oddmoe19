{
 "cells": [
  {
   "cell_type": "code",
   "execution_count": 41,
   "metadata": {},
   "outputs": [],
   "source": [
    "import pandas as pd\n",
    "import json"
   ]
  },
  {
   "cell_type": "code",
   "execution_count": 42,
   "metadata": {},
   "outputs": [],
   "source": [
    "data = json.load(open('abs_15.json'))"
   ]
  },
  {
   "cell_type": "code",
   "execution_count": 43,
   "metadata": {},
   "outputs": [],
   "source": [
    "df = pd.DataFrame(data[\"data\"][\"allRegions\"][\"regions\"])"
   ]
  },
  {
   "cell_type": "code",
   "execution_count": 44,
   "metadata": {},
   "outputs": [
    {
     "data": {
      "text/plain": [
       "[{'year': 2015, 'BILAG2': 'BILABS11', 'GES': 'GESM', 'value': 155},\n",
       " {'year': 2015, 'BILAG2': 'BILABS11', 'GES': 'GESW', 'value': 131},\n",
       " {'year': 2015, 'BILAG2': 'BILABS12', 'GES': 'GESM', 'value': 440},\n",
       " {'year': 2015, 'BILAG2': 'BILABS12', 'GES': 'GESW', 'value': 305},\n",
       " {'year': 2015, 'BILAG2': 'BILABS13', 'GES': 'GESM', 'value': 1201},\n",
       " {'year': 2015, 'BILAG2': 'BILABS13', 'GES': 'GESW', 'value': 1058},\n",
       " {'year': 2015, 'BILAG2': 'BILABS12', 'GES': None, 'value': 745},\n",
       " {'year': 2015, 'BILAG2': 'BILABS13', 'GES': None, 'value': 2259},\n",
       " {'year': 2015, 'BILAG2': 'BILABS11', 'GES': None, 'value': 286}]"
      ]
     },
     "execution_count": 44,
     "metadata": {},
     "output_type": "execute_result"
    }
   ],
   "source": [
    "df[\"BILABS\"][0]"
   ]
  },
  {
   "cell_type": "code",
   "execution_count": 45,
   "metadata": {},
   "outputs": [],
   "source": [
    "def convert(df):\n",
    "    for _, row in df.iterrows():\n",
    "        for line in row['BILABS']:\n",
    "            line['id'] = row['id']\n",
    "            line['name'] = row['name']\n",
    "            yield line"
   ]
  },
  {
   "cell_type": "code",
   "execution_count": 52,
   "metadata": {},
   "outputs": [
    {
     "data": {
      "text/html": [
       "<div>\n",
       "<style scoped>\n",
       "    .dataframe tbody tr th:only-of-type {\n",
       "        vertical-align: middle;\n",
       "    }\n",
       "\n",
       "    .dataframe tbody tr th {\n",
       "        vertical-align: top;\n",
       "    }\n",
       "\n",
       "    .dataframe thead th {\n",
       "        text-align: right;\n",
       "    }\n",
       "</style>\n",
       "<table border=\"1\" class=\"dataframe\">\n",
       "  <thead>\n",
       "    <tr style=\"text-align: right;\">\n",
       "      <th></th>\n",
       "      <th>BILAG2</th>\n",
       "      <th>GES</th>\n",
       "      <th>id</th>\n",
       "      <th>name</th>\n",
       "      <th>value</th>\n",
       "      <th>year</th>\n",
       "    </tr>\n",
       "  </thead>\n",
       "  <tbody>\n",
       "    <tr>\n",
       "      <th>10</th>\n",
       "      <td>BILABS11</td>\n",
       "      <td>GESM</td>\n",
       "      <td>05112</td>\n",
       "      <td>Duisburg</td>\n",
       "      <td>183</td>\n",
       "      <td>2015</td>\n",
       "    </tr>\n",
       "    <tr>\n",
       "      <th>47</th>\n",
       "      <td>BILABS13</td>\n",
       "      <td>GESM</td>\n",
       "      <td>05117</td>\n",
       "      <td>Mülheim an der Ruhr</td>\n",
       "      <td>295</td>\n",
       "      <td>2015</td>\n",
       "    </tr>\n",
       "    <tr>\n",
       "      <th>80</th>\n",
       "      <td>BILABS13</td>\n",
       "      <td>None</td>\n",
       "      <td>05122</td>\n",
       "      <td>Solingen</td>\n",
       "      <td>663</td>\n",
       "      <td>2015</td>\n",
       "    </tr>\n",
       "    <tr>\n",
       "      <th>13</th>\n",
       "      <td>BILABS11</td>\n",
       "      <td>GESW</td>\n",
       "      <td>05112</td>\n",
       "      <td>Duisburg</td>\n",
       "      <td>132</td>\n",
       "      <td>2015</td>\n",
       "    </tr>\n",
       "    <tr>\n",
       "      <th>20</th>\n",
       "      <td>BILABS11</td>\n",
       "      <td>GESW</td>\n",
       "      <td>05113</td>\n",
       "      <td>Essen</td>\n",
       "      <td>186</td>\n",
       "      <td>2015</td>\n",
       "    </tr>\n",
       "    <tr>\n",
       "      <th>27</th>\n",
       "      <td>BILABS11</td>\n",
       "      <td>GESW</td>\n",
       "      <td>05114</td>\n",
       "      <td>Krefeld</td>\n",
       "      <td>78</td>\n",
       "      <td>2015</td>\n",
       "    </tr>\n",
       "    <tr>\n",
       "      <th>61</th>\n",
       "      <td>BILABS12</td>\n",
       "      <td>None</td>\n",
       "      <td>05119</td>\n",
       "      <td>Oberhausen</td>\n",
       "      <td>386</td>\n",
       "      <td>2015</td>\n",
       "    </tr>\n",
       "    <tr>\n",
       "      <th>19</th>\n",
       "      <td>BILABS11</td>\n",
       "      <td>GESM</td>\n",
       "      <td>05113</td>\n",
       "      <td>Essen</td>\n",
       "      <td>223</td>\n",
       "      <td>2015</td>\n",
       "    </tr>\n",
       "    <tr>\n",
       "      <th>17</th>\n",
       "      <td>BILABS11</td>\n",
       "      <td>None</td>\n",
       "      <td>05112</td>\n",
       "      <td>Duisburg</td>\n",
       "      <td>315</td>\n",
       "      <td>2015</td>\n",
       "    </tr>\n",
       "    <tr>\n",
       "      <th>3</th>\n",
       "      <td>BILABS12</td>\n",
       "      <td>GESW</td>\n",
       "      <td>05111</td>\n",
       "      <td>Düsseldorf</td>\n",
       "      <td>305</td>\n",
       "      <td>2015</td>\n",
       "    </tr>\n",
       "  </tbody>\n",
       "</table>\n",
       "</div>"
      ],
      "text/plain": [
       "      BILAG2   GES     id                 name  value  year\n",
       "10  BILABS11  GESM  05112             Duisburg    183  2015\n",
       "47  BILABS13  GESM  05117  Mülheim an der Ruhr    295  2015\n",
       "80  BILABS13  None  05122             Solingen    663  2015\n",
       "13  BILABS11  GESW  05112             Duisburg    132  2015\n",
       "20  BILABS11  GESW  05113                Essen    186  2015\n",
       "27  BILABS11  GESW  05114              Krefeld     78  2015\n",
       "61  BILABS12  None  05119           Oberhausen    386  2015\n",
       "19  BILABS11  GESM  05113                Essen    223  2015\n",
       "17  BILABS11  None  05112             Duisburg    315  2015\n",
       "3   BILABS12  GESW  05111           Düsseldorf    305  2015"
      ]
     },
     "execution_count": 52,
     "metadata": {},
     "output_type": "execute_result"
    }
   ],
   "source": [
    "ndf = pd.DataFrame(convert(df))\n",
    "ndf.sample(10)"
   ]
  },
  {
   "cell_type": "code",
   "execution_count": null,
   "metadata": {},
   "outputs": [],
   "source": []
  }
 ],
 "metadata": {
  "kernelspec": {
   "display_name": "Python 3",
   "language": "python",
   "name": "python3"
  },
  "language_info": {
   "codemirror_mode": {
    "name": "ipython",
    "version": 3
   },
   "file_extension": ".py",
   "mimetype": "text/x-python",
   "name": "python",
   "nbconvert_exporter": "python",
   "pygments_lexer": "ipython3",
   "version": "3.6.7"
  }
 },
 "nbformat": 4,
 "nbformat_minor": 2
}
